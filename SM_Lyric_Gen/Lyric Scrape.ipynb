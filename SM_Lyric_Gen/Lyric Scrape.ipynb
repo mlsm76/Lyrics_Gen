{
 "cells": [
  {
   "cell_type": "code",
   "execution_count": 36,
   "metadata": {},
   "outputs": [],
   "source": [
    "#signed up for API account on popular music database website\n",
    "client_access_token = 'hwnm9AOLThPE0Ot4SsegJu-rTg9X25TNZW75P2YfEBTffs6_NsMNGrPyo_BzdfLM'"
   ]
  },
  {
   "cell_type": "code",
   "execution_count": 72,
   "metadata": {},
   "outputs": [],
   "source": [
    "# Make HTTP requests\n",
    "import requests\n",
    "# Scrape data from an HTML document\n",
    "from bs4 import BeautifulSoup\n",
    "# I/O\n",
    "import os\n",
    "# Search and manipulate strings\n",
    "import re"
   ]
  },
  {
   "cell_type": "code",
   "execution_count": 40,
   "metadata": {},
   "outputs": [
    {
     "name": "stdout",
     "output_type": "stream",
     "text": [
      "I’ve grown accustomed to losing sleep\r\n",
      "Sweep me off my feet\r\n",
      "Dig your nails into my wounds and pull\r\n",
      "A lucid dream\r\n",
      "Where my chest will collapse from the weight of a fictitious ghost\r\n",
      "Tear through me, sacrifice me to your sea\r\n",
      "With broken arms I’m left to carry my shell\r\n",
      "With no help from the current\r\n",
      "Lifeless, I am dragging me down\r\n",
      "Hollow, I’m left to fend for myself\r\n",
      "Forget everything that you’ve come to know\r\n",
      "We are not meant for much but to carry our own misery\r\n",
      "Is there a God cursing every step that I take?\r\n",
      "Or have I been forced to commit myself to the dirt?\r\n",
      "We’re chasing the light in the darkest of graves\r\n",
      "But the fortunate ones know to wait until mourning\r\n",
      "Be still\r\n",
      "Serenity blesses us in waves\r\n",
      "And with eyes like mountains, we’re drawn to the brow\r\n",
      "Leave this life behind and take the next step in the right direction Stare at the sky, and offer yourself to circumstance\r\n",
      "Be the burn\r\n",
      "Burn me alive\r\n",
      "Be the burn\r\n",
      "Burn me alive\n"
     ]
    }
   ],
   "source": [
    "# Scrape lyrics from a Genius.com song URL\n",
    "def scrape_song_lyrics(url):\n",
    "    page = requests.get(url)\n",
    "    html = BeautifulSoup(page.text, 'html.parser')\n",
    "    lyrics = html.find('div', class_='lyrics').get_text()\n",
    "    #remove identifiers like chorus, verse, etc\n",
    "    lyrics = re.sub(r'[\\(\\[].*?[\\)\\]]', '', lyrics)\n",
    "    #remove empty lines\n",
    "    lyrics = os.linesep.join([s for s in lyrics.splitlines() if s])         \n",
    "    return lyrics\n",
    "# DEMO\n",
    "print(scrape_song_lyrics('https://genius.com/Counterparts-burn-lyrics'))"
   ]
  },
  {
   "cell_type": "code",
   "execution_count": 71,
   "metadata": {},
   "outputs": [
    {
     "name": "stdout",
     "output_type": "stream",
     "text": [
      "Searching for songs by Counterparts...\n",
      "\n",
      "Song 1: \"You’re Not You Anymore\"\n",
      "Song 2: \"Solace\"\n",
      "Song 3: \"Bouquet\"\n",
      "Song 4: \"Collapse\"\n",
      "Song 5: \"Burn\"\n",
      "Song 6: \"Stranger\"\n",
      "Song 7: \"Choke\"\n",
      "Song 8: \"Tragedy\"\n",
      "Song 9: \"Nothing Left to Love\"\n",
      "Song 10: \"Wings of Nightmares\"\n",
      "Song 11: \"Swim Beneath My Skin\"\n",
      "Song 12: \"No Servant of Mine\"\n",
      "Song 13: \"The Disconnect\"\n",
      "Song 14: \"Monument\"\n",
      "Song 15: \"Arms Like Teeth\"\n",
      "Song 16: \"Rope\"\n",
      "Song 17: \"Stillborn\"\n",
      "Song 18: \"Resonate\"\n",
      "Song 19: \"Haunt Me\"\n",
      "Song 20: \"Paradise and Plague\"\n",
      "Song 21: \"Thieves\"\n",
      "Song 22: \"A Memory Misread\"\n",
      "Song 23: \"Compass\"\n",
      "Song 24: \"Thread\"\n",
      "Song 25: \"Drown\"\n",
      "Song 26: \"Separate Wounds\"\n",
      "Song 27: \"Withdrawal\"\n",
      "Song 28: \"The Hands That Used to Hold Me\"\n",
      "Song 29: \"Cherished\"\n",
      "Song 30: \"Ocean of Another\"\n",
      "Song 31: \"Love Me\"\n",
      "Song 32: \"Your Own Knife\"\n",
      "Song 33: \"Selfishly I Sink\"\n",
      "Song 34: \"Fragile Limbs\"\n",
      "Song 35: \"Imprints\"\n",
      "Song 36: \"Witness\"\n",
      "Song 37: \"Reflection\"\n",
      "Song 38: \"Debris\"\n",
      "Song 39: \"Ghost\"\n",
      "Song 40: \"We Forgive\"\n",
      "Song 41: \"Outlier\"\n",
      "Song 42: \"Walk Away Slowly\"\n",
      "Song 43: \"I Am No One\"\n",
      "Song 44: \"Decay\"\n",
      "Song 45: \"Lost\"\n",
      "Song 46: \"Soil\"\n",
      "Song 47: \"Wither\"\n",
      "Song 48: \"The Constant\"\n",
      "Song 49: \"Purer Form of Pain\"\n",
      "Song 50: \"(You Think You’re) John Fucking Locke\"\n",
      "Song 51: \"Cursed\"\n",
      "Song 52: \"Strings of Separation\"\n",
      "Song 53: \"Slave\"\n",
      "Song 54: \"Goodbye, Megaton\"\n",
      "Song 55: \"MMVII\"\n",
      "Song 56: \"Jumping Ship\"\n",
      "Song 57: \"Digression\"\n",
      "Song 58: \"Thank God\"\n",
      "Song 59: \"Sinking\"\n",
      "Song 60: \"Only Anchors\"\n",
      "Song 61: \"Prophets\"\n",
      "Song 62: \"Optimist\"\n",
      "Song 63: \"Uncertainty\"\n",
      "Song 64: \"Pedestal\"\n",
      "Song 65: \"Sturdy Wings\"\n",
      "Song 66: \"Isolation\"\n",
      "Song 67: \"The Sanctuary\"\n",
      "Song 68: \"A Plea: A Promise\"\n",
      "Song 69: \"The Reflex Tester\"\n",
      "Song 70: \"Carpe Diem\"\n",
      "Song 71: \"Will You Love Me\"\n",
      "Song 72: \"To The Grave\"\n",
      "Song 73: \"Dark Ages\"\n",
      "Done. Found 73 songs.\n",
      "Lyrics_Counterparts.txt already exists. Overwrite?\n",
      "(y/n): y\n",
      "Wrote `Lyrics_Counterparts.txt`\n"
     ]
    }
   ],
   "source": [
    "import lyricsgenius\n",
    "genius = lyricsgenius.Genius(\"hwnm9AOLThPE0Ot4SsegJu-rTg9X25TNZW75P2YfEBTffs6_NsMNGrPyo_BzdfLM\")\n",
    "artist = genius.search_artist(\"Counterparts\", sort=\"popularity\")\n",
    "artist.save_lyrics(extension='.txt', binary_encoding=True)"
   ]
  }
 ],
 "metadata": {
  "kernelspec": {
   "display_name": "Python 3",
   "language": "python",
   "name": "python3"
  },
  "language_info": {
   "codemirror_mode": {
    "name": "ipython",
    "version": 3
   },
   "file_extension": ".py",
   "mimetype": "text/x-python",
   "name": "python",
   "nbconvert_exporter": "python",
   "pygments_lexer": "ipython3",
   "version": "3.7.3"
  }
 },
 "nbformat": 4,
 "nbformat_minor": 4
}
