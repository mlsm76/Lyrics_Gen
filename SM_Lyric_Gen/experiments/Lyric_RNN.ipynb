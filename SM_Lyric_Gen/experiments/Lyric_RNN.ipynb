{
 "cells": [
  {
   "cell_type": "markdown",
   "metadata": {},
   "source": [
    "## Char-RNN"
   ]
  },
  {
   "cell_type": "code",
   "execution_count": 1,
   "metadata": {},
   "outputs": [
    {
     "name": "stderr",
     "output_type": "stream",
     "text": [
      "Using TensorFlow backend.\n"
     ]
    },
    {
     "name": "stdout",
     "output_type": "stream",
     "text": [
      "WARNING:tensorflow:From C:\\Users\\mitch\\AppData\\Roaming\\Python\\Python37\\site-packages\\tensorflow\\python\\compat\\v2_compat.py:96: disable_resource_variables (from tensorflow.python.ops.variable_scope) is deprecated and will be removed in a future version.\n",
      "Instructions for updating:\n",
      "non-resource variables are not supported in the long term\n"
     ]
    }
   ],
   "source": [
    "import pandas as pd\n",
    "import numpy as np\n",
    "import tensorflow.compat.v1 as tf\n",
    "import keras\n",
    "from tensorflow.keras import backend\n",
    "from tensorflow.keras.layers import Dropout, Dense\n",
    "from tensorflow.keras.models import Sequential\n",
    "tf.compat.v1.enable_eager_execution()\n",
    "tf.compat.v1.disable_v2_behavior()\n",
    "import tensorflow.experimental.numpy as tnp\n",
    "tf.enable_eager_execution()"
   ]
  },
  {
   "cell_type": "code",
   "execution_count": 2,
   "metadata": {},
   "outputs": [],
   "source": [
    "lyrics = open(\"Lyrics_Counterparts.txt\", encoding=\"utf-8\").read().lower()"
   ]
  },
  {
   "cell_type": "code",
   "execution_count": 3,
   "metadata": {},
   "outputs": [],
   "source": [
    "tokenizer = keras.preprocessing.text.Tokenizer(char_level=True)\n",
    "tokenizer.fit_on_texts(lyrics)"
   ]
  },
  {
   "cell_type": "code",
   "execution_count": 4,
   "metadata": {},
   "outputs": [
    {
     "data": {
      "text/plain": [
       "[[17, 5, 8, 9, 3]]"
      ]
     },
     "execution_count": 4,
     "metadata": {},
     "output_type": "execute_result"
    }
   ],
   "source": [
    "tokenizer.texts_to_sequences([\"First\"])"
   ]
  },
  {
   "cell_type": "code",
   "execution_count": 5,
   "metadata": {},
   "outputs": [
    {
     "name": "stdout",
     "output_type": "stream",
     "text": [
      "52   71707\n"
     ]
    }
   ],
   "source": [
    "max_id = len(tokenizer.word_index) #number of distinct characters in text\n",
    "dataset_size = tokenizer.document_count #total number of characters\n",
    "print(max_id, \" \", dataset_size)"
   ]
  },
  {
   "cell_type": "code",
   "execution_count": 6,
   "metadata": {},
   "outputs": [],
   "source": [
    "[encoded] = np.array(tokenizer.texts_to_sequences([lyrics])) - 1\n",
    "#encodes the full text so each character is represented by its ID"
   ]
  },
  {
   "cell_type": "code",
   "execution_count": 7,
   "metadata": {},
   "outputs": [],
   "source": [
    "#splitting dataset for training/test/validation\n",
    "train_size = dataset_size * 90//100\n",
    "dataset = tf.data.Dataset.from_tensor_slices(encoded[:train_size])"
   ]
  },
  {
   "cell_type": "code",
   "execution_count": 8,
   "metadata": {},
   "outputs": [],
   "source": [
    "#convert long string of characters into windows for training(batches)\n",
    "n_steps = 100\n",
    "window_length = n_steps + 1 #target character = input shifted 1 char ahead\n",
    "dataset = dataset.window(window_length, shift=1, drop_remainder=True)"
   ]
  },
  {
   "cell_type": "code",
   "execution_count": 9,
   "metadata": {},
   "outputs": [],
   "source": [
    "#flatten the dataset for training\n",
    "dataset = dataset.flat_map(lambda window: window.batch(window_length))\n",
    "#this gives us a single tensor for each window"
   ]
  },
  {
   "cell_type": "code",
   "execution_count": 10,
   "metadata": {},
   "outputs": [],
   "source": [
    "batch_size = 32\n",
    "dataset = dataset.shuffle(10000).batch(batch_size)\n",
    "dataset = dataset.map(lambda windows: (windows[:, :-1], windows[:, 1:]))"
   ]
  },
  {
   "cell_type": "code",
   "execution_count": 11,
   "metadata": {},
   "outputs": [],
   "source": [
    "dataset = dataset.map(\n",
    "    lambda X_batch, Y_batch: (tf.one_hot(X_batch, depth=max_id), Y_batch))"
   ]
  },
  {
   "cell_type": "code",
   "execution_count": 12,
   "metadata": {},
   "outputs": [],
   "source": [
    "dataset = dataset.prefetch(1)"
   ]
  },
  {
   "cell_type": "code",
   "execution_count": 13,
   "metadata": {},
   "outputs": [
    {
     "name": "stdout",
     "output_type": "stream",
     "text": [
      "Epoch 1/30\n",
      "2014/2014 [==============================] - 697s 341ms/step - loss: 2.2574\n",
      "Epoch 2/30\n",
      "2014/2014 [==============================] - 676s 335ms/step - loss: 1.5608\n",
      "Epoch 3/30\n",
      "2014/2014 [==============================] - 697s 346ms/step - loss: 1.4486\n",
      "Epoch 4/30\n",
      "2014/2014 [==============================] - 685s 339ms/step - loss: 1.3942\n",
      "Epoch 5/30\n",
      "2014/2014 [==============================] - 654s 324ms/step - loss: 1.3611\n",
      "Epoch 6/30\n",
      "2014/2014 [==============================] - 654s 324ms/step - loss: 1.3339\n",
      "Epoch 7/30\n",
      "2014/2014 [==============================] - 655s 325ms/step - loss: 1.3144\n",
      "Epoch 8/30\n",
      "2014/2014 [==============================] - 651s 323ms/step - loss: 1.2980\n",
      "Epoch 9/30\n",
      "2014/2014 [==============================] - 654s 324ms/step - loss: 1.2862\n",
      "Epoch 10/30\n",
      "2014/2014 [==============================] - 680s 337ms/step - loss: 1.2739\n",
      "Epoch 11/30\n",
      "2014/2014 [==============================] - 653s 324ms/step - loss: 1.2639\n",
      "Epoch 12/30\n",
      "2014/2014 [==============================] - 653s 324ms/step - loss: 1.2543\n",
      "Epoch 13/30\n",
      "2014/2014 [==============================] - 649s 322ms/step - loss: 1.2468\n",
      "Epoch 14/30\n",
      "2014/2014 [==============================] - 656s 325ms/step - loss: 1.2381\n",
      "Epoch 15/30\n",
      "2014/2014 [==============================] - 656s 325ms/step - loss: 1.2332\n",
      "Epoch 16/30\n",
      "2014/2014 [==============================] - 656s 325ms/step - loss: 1.2263\n",
      "Epoch 17/30\n",
      "2014/2014 [==============================] - 655s 324ms/step - loss: 1.2204\n",
      "Epoch 18/30\n",
      "2014/2014 [==============================] - 659s 327ms/step - loss: 1.2149\n",
      "Epoch 19/30\n",
      "2014/2014 [==============================] - 656s 325ms/step - loss: 1.2091\n",
      "Epoch 20/30\n",
      "2014/2014 [==============================] - 657s 325ms/step - loss: 1.2060\n",
      "Epoch 21/30\n",
      "2014/2014 [==============================] - 686s 340ms/step - loss: 1.2024\n",
      "Epoch 22/30\n",
      "2014/2014 [==============================] - 661s 328ms/step - loss: 1.1970\n",
      "Epoch 23/30\n",
      "2014/2014 [==============================] - 691s 343ms/step - loss: 1.1938\n",
      "Epoch 24/30\n",
      "2014/2014 [==============================] - 711s 352ms/step - loss: 1.1912\n",
      "Epoch 25/30\n",
      "2014/2014 [==============================] - 658s 326ms/step - loss: 1.1882\n",
      "Epoch 26/30\n",
      "2014/2014 [==============================] - 663s 328ms/step - loss: 1.1838\n",
      "Epoch 27/30\n",
      "2014/2014 [==============================] - 655s 325ms/step - loss: 1.1817\n",
      "Epoch 28/30\n",
      "2014/2014 [==============================] - 660s 327ms/step - loss: 1.1795\n",
      "Epoch 29/30\n",
      "2014/2014 [==============================] - 661s 328ms/step - loss: 1.1754\n",
      "Epoch 30/30\n",
      "2014/2014 [==============================] - 666s 330ms/step - loss: 1.1739\n"
     ]
    }
   ],
   "source": [
    "model = tf.keras.models.Sequential([\n",
    "    tf.keras.layers.GRU(128, return_sequences=True, input_shape=[None, max_id],\n",
    "                    dropout=0.2, recurrent_dropout=0.2),\n",
    "    tf.keras.layers.GRU(128, return_sequences=True, \n",
    "                     dropout=0.2, recurrent_dropout=0.2),\n",
    "    tf.keras.layers.TimeDistributed(tf.keras.layers.Dense(max_id,\n",
    "                                                   activation=\"softmax\"))\n",
    "])\n",
    "model.compile(loss=\"sparse_categorical_crossentropy\", optimizer=\"adam\")\n",
    "history = model.fit(dataset, epochs=30)"
   ]
  },
  {
   "cell_type": "code",
   "execution_count": 14,
   "metadata": {},
   "outputs": [],
   "source": [
    "model.save('char_rnn_lyrics')"
   ]
  },
  {
   "cell_type": "code",
   "execution_count": 15,
   "metadata": {},
   "outputs": [
    {
     "data": {
      "text/plain": [
       "True"
      ]
     },
     "execution_count": 15,
     "metadata": {},
     "output_type": "execute_result"
    }
   ],
   "source": [
    "tf.executing_eagerly()"
   ]
  },
  {
   "cell_type": "code",
   "execution_count": 16,
   "metadata": {},
   "outputs": [],
   "source": [
    "def preprocess(texts):\n",
    "    X = np.array(tokenizer.texts_to_sequences(texts)) - 1\n",
    "    return tf.one_hot(X, max_id)"
   ]
  },
  {
   "cell_type": "code",
   "execution_count": 17,
   "metadata": {},
   "outputs": [],
   "source": [
    "def next_char(text, temperature=1):\n",
    "    X_new = preprocess([text])\n",
    "    y_proba = model.predict(X_new,steps=1)[0, -1:, :]\n",
    "    rescaled_logits = tf.math.log(y_proba)/ temperature\n",
    "    char_id = tf.random.categorical(rescaled_logits, num_samples=1) + 1\n",
    "    return tokenizer.sequences_to_texts(char_id.numpy())[0]\n",
    "#this function picks the next character randomly, with a probability equal to the estimated probability,using tf.random.categorical\n",
    "#categorical() samples random class indices, given the class probs (logits)\n",
    "#temperature is a variables that controls the diversity of the characters generated\n",
    "# a near-zero temperature will output characters with high probabilities\n",
    "# a high temperature will give all characters equal probability"
   ]
  },
  {
   "cell_type": "code",
   "execution_count": 18,
   "metadata": {},
   "outputs": [],
   "source": [
    "#this function repeatedly calls the above function to generate text\n",
    "def complete_text(text, n_chars=100, temperature=1):\n",
    "    for _ in range(n_chars):\n",
    "        text += next_char (text, temperature)\n",
    "    return text"
   ]
  },
  {
   "cell_type": "code",
   "execution_count": 19,
   "metadata": {},
   "outputs": [
    {
     "name": "stdout",
     "output_type": "stream",
     "text": [
      "aunt have but soil composed\n",
      "to be\n",
      "and the shing exchanged down around to be our own falts, and you mu\n"
     ]
    }
   ],
   "source": [
    "print(complete_text(\"a\", temperature=1))"
   ]
  },
  {
   "cell_type": "code",
   "execution_count": 20,
   "metadata": {},
   "outputs": [
    {
     "name": "stdout",
     "output_type": "stream",
     "text": [
      "become broken embracion\n",
      "\n",
      "fall we've always down abandon my body\n",
      "\n",
      "we are drawn for decision\n",
      "i am no ev\n"
     ]
    }
   ],
   "source": [
    "print(complete_text(\"b\", temperature=1))"
   ]
  },
  {
   "cell_type": "code",
   "execution_count": 21,
   "metadata": {},
   "outputs": [
    {
     "name": "stdout",
     "output_type": "stream",
     "text": [
      "f shawed is remains\n",
      "and sway rest to take troughts\n",
      "\n",
      "and i know where to take my flaws\n",
      "\n",
      "[chorus]\n",
      "i bel\n"
     ]
    }
   ],
   "source": [
    "print(complete_text(\"f\", temperature=1))"
   ]
  },
  {
   "cell_type": "markdown",
   "metadata": {},
   "source": [
    "## Stateful RNN"
   ]
  },
  {
   "cell_type": "code",
   "execution_count": 22,
   "metadata": {},
   "outputs": [],
   "source": [
    "n_steps = 100\n",
    "window_length = n_steps + 1 # target = input shifted 1 character ahead\n",
    "dataset = dataset.repeat().window(window_length, shift=n_steps, drop_remainder=True)"
   ]
  },
  {
   "cell_type": "code",
   "execution_count": 23,
   "metadata": {},
   "outputs": [],
   "source": [
    "dataset = tf.data.Dataset.from_tensor_slices(encoded[:train_size])\n",
    "dataset = dataset.window(window_length, shift=n_steps, drop_remainder=True)\n",
    "dataset = dataset.flat_map(lambda window: window.batch(window_length))\n",
    "dataset = dataset.repeat().batch(1)\n",
    "dataset = dataset.map(lambda windows: (windows[:, :-1], windows[:, 1:]))\n",
    "dataset = dataset.map(\n",
    "    lambda X_batch, Y_batch: (tf.one_hot(X_batch, depth=max_id), Y_batch))\n",
    "dataset = dataset.prefetch(1)"
   ]
  },
  {
   "cell_type": "code",
   "execution_count": 24,
   "metadata": {},
   "outputs": [],
   "source": [
    "batch_size = 32\n",
    "encoded_parts = np.array_split(encoded[:train_size], batch_size)\n",
    "datasets = []\n",
    "for encoded_part in encoded_parts:\n",
    "    dataset = tf.data.Dataset.from_tensor_slices(encoded_part)\n",
    "    dataset = dataset.window(window_length, shift=n_steps, drop_remainder=True)\n",
    "    dataset = dataset.flat_map(lambda window: window.batch(window_length))\n",
    "    datasets.append(dataset)\n",
    "dataset = tf.data.Dataset.zip(tuple(datasets)).map(lambda *windows: tf.stack(windows))\n",
    "dataset = dataset.repeat().map(lambda windows: (windows[:, :-1], windows[:, 1:]))\n",
    "dataset = dataset.map(\n",
    "    lambda X_batch, Y_batch: (tf.one_hot(X_batch, depth=max_id), Y_batch))\n",
    "dataset = dataset.prefetch(1)"
   ]
  },
  {
   "cell_type": "code",
   "execution_count": 54,
   "metadata": {},
   "outputs": [],
   "source": [
    "model = tf.keras.models.Sequential([\n",
    "    tf.keras.layers.GRU(128, return_sequences=True, stateful=True,\n",
    "                    dropout=0.2, recurrent_dropout=0.2, batch_input_shape=[batch_size, None, max_id]),\n",
    "    tf.keras.layers.GRU(128, return_sequences=True, stateful=True,\n",
    "                    dropout=0.2, recurrent_dropout=0.2),\n",
    "    tf.keras.layers.GRU(128, return_sequences=True, stateful=True,\n",
    "                     dropout=0.2, recurrent_dropout=0.2),\n",
    "    tf.keras.layers.TimeDistributed(tf.keras.layers.Dense(max_id,\n",
    "                                                   activation=\"softmax\"))\n",
    "])"
   ]
  },
  {
   "cell_type": "code",
   "execution_count": 55,
   "metadata": {},
   "outputs": [],
   "source": [
    "class ResetStatesCallback(tf.keras.callbacks.Callback):\n",
    "    def on_epoch_begin(self, epoch, logs):\n",
    "        self.model.reset_states()"
   ]
  },
  {
   "cell_type": "code",
   "execution_count": 56,
   "metadata": {},
   "outputs": [],
   "source": [
    "model.compile(loss=\"sparse_categorical_crossentropy\", optimizer=\"adam\")\n",
    "steps_per_epoch = train_size // batch_size // n_steps"
   ]
  },
  {
   "cell_type": "code",
   "execution_count": 57,
   "metadata": {},
   "outputs": [
    {
     "name": "stdout",
     "output_type": "stream",
     "text": [
      "Epoch 1/200\n",
      "20/20 [==============================] - 17s 666ms/step - loss: 3.7173\n",
      "Epoch 2/200\n",
      "20/20 [==============================] - 12s 620ms/step - loss: 3.0408\n",
      "Epoch 3/200\n",
      "20/20 [==============================] - 13s 653ms/step - loss: 2.9894\n",
      "Epoch 4/200\n",
      "20/20 [==============================] - 12s 620ms/step - loss: 2.9558\n",
      "Epoch 5/200\n",
      "20/20 [==============================] - 13s 635ms/step - loss: 2.8790\n",
      "Epoch 6/200\n",
      "20/20 [==============================] - 13s 661ms/step - loss: 2.7885\n",
      "Epoch 7/200\n",
      "20/20 [==============================] - 13s 647ms/step - loss: 2.6561\n",
      "Epoch 8/200\n",
      "20/20 [==============================] - 13s 660ms/step - loss: 2.5617\n",
      "Epoch 9/200\n",
      "20/20 [==============================] - 13s 648ms/step - loss: 2.4924\n",
      "Epoch 10/200\n",
      "20/20 [==============================] - 13s 646ms/step - loss: 2.4342\n",
      "Epoch 11/200\n",
      "20/20 [==============================] - 13s 653ms/step - loss: 2.3838\n",
      "Epoch 12/200\n",
      "20/20 [==============================] - 13s 643ms/step - loss: 2.3399\n",
      "Epoch 13/200\n",
      "20/20 [==============================] - 13s 653ms/step - loss: 2.3002\n",
      "Epoch 14/200\n",
      "20/20 [==============================] - 13s 648ms/step - loss: 2.2623\n",
      "Epoch 15/200\n",
      "20/20 [==============================] - 13s 647ms/step - loss: 2.2262\n",
      "Epoch 16/200\n",
      "20/20 [==============================] - 13s 655ms/step - loss: 2.1887\n",
      "Epoch 17/200\n",
      "20/20 [==============================] - 13s 645ms/step - loss: 2.1563\n",
      "Epoch 18/200\n",
      "20/20 [==============================] - 13s 655ms/step - loss: 2.1275\n",
      "Epoch 19/200\n",
      "20/20 [==============================] - 14s 686ms/step - loss: 2.0993\n",
      "Epoch 20/200\n",
      "20/20 [==============================] - 14s 701ms/step - loss: 2.0829\n",
      "Epoch 21/200\n",
      "20/20 [==============================] - 15s 733ms/step - loss: 2.0578\n",
      "Epoch 22/200\n",
      "20/20 [==============================] - 14s 685ms/step - loss: 2.0297\n",
      "Epoch 23/200\n",
      "20/20 [==============================] - 15s 764ms/step - loss: 2.0150\n",
      "Epoch 24/200\n",
      "20/20 [==============================] - 15s 717ms/step - loss: 1.9947\n",
      "Epoch 25/200\n",
      "20/20 [==============================] - 14s 693ms/step - loss: 1.9722\n",
      "Epoch 26/200\n",
      "20/20 [==============================] - 14s 686ms/step - loss: 1.9576\n",
      "Epoch 27/200\n",
      "20/20 [==============================] - 14s 722ms/step - loss: 1.9386\n",
      "Epoch 28/200\n",
      "20/20 [==============================] - 14s 695ms/step - loss: 1.9253\n",
      "Epoch 29/200\n",
      "20/20 [==============================] - 14s 689ms/step - loss: 1.9167\n",
      "Epoch 30/200\n",
      "20/20 [==============================] - 14s 727ms/step - loss: 1.8919\n",
      "Epoch 31/200\n",
      "20/20 [==============================] - 14s 695ms/step - loss: 1.8739\n",
      "Epoch 32/200\n",
      "20/20 [==============================] - 14s 700ms/step - loss: 1.8611\n",
      "Epoch 33/200\n",
      "20/20 [==============================] - 14s 718ms/step - loss: 1.8579\n",
      "Epoch 34/200\n",
      "20/20 [==============================] - 14s 705ms/step - loss: 1.8403\n",
      "Epoch 35/200\n",
      "20/20 [==============================] - 15s 729ms/step - loss: 1.8326\n",
      "Epoch 36/200\n",
      "20/20 [==============================] - 14s 708ms/step - loss: 1.8168\n",
      "Epoch 37/200\n",
      "20/20 [==============================] - 14s 716ms/step - loss: 1.8072\n",
      "Epoch 38/200\n",
      "20/20 [==============================] - 15s 729ms/step - loss: 1.7979\n",
      "Epoch 39/200\n",
      "20/20 [==============================] - 15s 732ms/step - loss: 1.7873\n",
      "Epoch 40/200\n",
      "20/20 [==============================] - 15s 723ms/step - loss: 1.7809\n",
      "Epoch 41/200\n",
      "20/20 [==============================] - 14s 712ms/step - loss: 1.7619\n",
      "Epoch 42/200\n",
      "20/20 [==============================] - 14s 683ms/step - loss: 1.7638\n",
      "Epoch 43/200\n",
      "20/20 [==============================] - 14s 678ms/step - loss: 1.7553\n",
      "Epoch 44/200\n",
      "20/20 [==============================] - 15s 751ms/step - loss: 1.7382\n",
      "Epoch 45/200\n",
      "20/20 [==============================] - 15s 761ms/step - loss: 1.7354\n",
      "Epoch 46/200\n",
      "20/20 [==============================] - 14s 717ms/step - loss: 1.7265\n",
      "Epoch 47/200\n",
      "20/20 [==============================] - 15s 731ms/step - loss: 1.7158\n",
      "Epoch 48/200\n",
      "20/20 [==============================] - 14s 724ms/step - loss: 1.7122\n",
      "Epoch 49/200\n",
      "20/20 [==============================] - 14s 715ms/step - loss: 1.7043\n",
      "Epoch 50/200\n",
      "20/20 [==============================] - 14s 690ms/step - loss: 1.6973\n",
      "Epoch 51/200\n",
      "20/20 [==============================] - 14s 704ms/step - loss: 1.6867\n",
      "Epoch 52/200\n",
      "20/20 [==============================] - 14s 678ms/step - loss: 1.6872\n",
      "Epoch 53/200\n",
      "20/20 [==============================] - 15s 758ms/step - loss: 1.6805\n",
      "Epoch 54/200\n",
      "20/20 [==============================] - 14s 680ms/step - loss: 1.6699\n",
      "Epoch 55/200\n",
      "20/20 [==============================] - 14s 707ms/step - loss: 1.6572\n",
      "Epoch 56/200\n",
      "20/20 [==============================] - 14s 721ms/step - loss: 1.6467\n",
      "Epoch 57/200\n",
      "20/20 [==============================] - 14s 697ms/step - loss: 1.6522\n",
      "Epoch 58/200\n",
      "20/20 [==============================] - 15s 733ms/step - loss: 1.6454\n",
      "Epoch 59/200\n",
      "20/20 [==============================] - 14s 680ms/step - loss: 1.6379\n",
      "Epoch 60/200\n",
      "20/20 [==============================] - 13s 661ms/step - loss: 1.6381\n",
      "Epoch 61/200\n",
      "20/20 [==============================] - 14s 700ms/step - loss: 1.6248\n",
      "Epoch 62/200\n",
      "20/20 [==============================] - 14s 716ms/step - loss: 1.6191\n",
      "Epoch 63/200\n",
      "20/20 [==============================] - 16s 791ms/step - loss: 1.6111\n",
      "Epoch 64/200\n",
      "20/20 [==============================] - 15s 760ms/step - loss: 1.6120\n",
      "Epoch 65/200\n",
      "20/20 [==============================] - 15s 765ms/step - loss: 1.6053\n",
      "Epoch 66/200\n",
      "20/20 [==============================] - 16s 797ms/step - loss: 1.6046\n",
      "Epoch 67/200\n",
      "20/20 [==============================] - 16s 798ms/step - loss: 1.6041\n",
      "Epoch 68/200\n",
      "20/20 [==============================] - 15s 758ms/step - loss: 1.5938\n",
      "Epoch 69/200\n",
      "20/20 [==============================] - 14s 676ms/step - loss: 1.5881\n",
      "Epoch 70/200\n",
      "20/20 [==============================] - 14s 708ms/step - loss: 1.5859\n",
      "Epoch 71/200\n",
      "20/20 [==============================] - 15s 745ms/step - loss: 1.5820\n",
      "Epoch 72/200\n",
      "20/20 [==============================] - 14s 703ms/step - loss: 1.5766\n",
      "Epoch 73/200\n",
      "20/20 [==============================] - 15s 732ms/step - loss: 1.5661\n",
      "Epoch 74/200\n",
      "20/20 [==============================] - 14s 673ms/step - loss: 1.5657\n",
      "Epoch 75/200\n",
      "20/20 [==============================] - 14s 686ms/step - loss: 1.5735\n",
      "Epoch 76/200\n",
      "20/20 [==============================] - 14s 702ms/step - loss: 1.5627\n",
      "Epoch 77/200\n",
      "20/20 [==============================] - 13s 650ms/step - loss: 1.5551\n",
      "Epoch 78/200\n",
      "20/20 [==============================] - 14s 699ms/step - loss: 1.5538\n",
      "Epoch 79/200\n",
      "20/20 [==============================] - 13s 648ms/step - loss: 1.5491\n",
      "Epoch 80/200\n",
      "20/20 [==============================] - 13s 662ms/step - loss: 1.5483\n",
      "Epoch 81/200\n",
      "20/20 [==============================] - 13s 667ms/step - loss: 1.5432\n",
      "Epoch 82/200\n",
      "20/20 [==============================] - 13s 670ms/step - loss: 1.5361\n",
      "Epoch 83/200\n",
      "20/20 [==============================] - 13s 661ms/step - loss: 1.5383\n",
      "Epoch 84/200\n",
      "20/20 [==============================] - 14s 711ms/step - loss: 1.5324\n",
      "Epoch 85/200\n",
      "20/20 [==============================] - 14s 676ms/step - loss: 1.5288\n",
      "Epoch 86/200\n",
      "20/20 [==============================] - 13s 653ms/step - loss: 1.5249\n",
      "Epoch 87/200\n",
      "20/20 [==============================] - 13s 651ms/step - loss: 1.5219\n",
      "Epoch 88/200\n",
      "20/20 [==============================] - 13s 654ms/step - loss: 1.5188\n",
      "Epoch 89/200\n",
      "20/20 [==============================] - 14s 707ms/step - loss: 1.5233\n",
      "Epoch 90/200\n",
      "20/20 [==============================] - 13s 655ms/step - loss: 1.5120\n",
      "Epoch 91/200\n",
      "20/20 [==============================] - 13s 670ms/step - loss: 1.5060\n",
      "Epoch 92/200\n",
      "20/20 [==============================] - 15s 728ms/step - loss: 1.5126\n",
      "Epoch 93/200\n",
      "20/20 [==============================] - 13s 662ms/step - loss: 1.5001\n",
      "Epoch 94/200\n",
      "20/20 [==============================] - 14s 700ms/step - loss: 1.4979\n",
      "Epoch 95/200\n",
      "20/20 [==============================] - 14s 685ms/step - loss: 1.5014\n",
      "Epoch 96/200\n",
      "20/20 [==============================] - 13s 657ms/step - loss: 1.4997\n",
      "Epoch 97/200\n",
      "20/20 [==============================] - 14s 701ms/step - loss: 1.4993\n",
      "Epoch 98/200\n"
     ]
    },
    {
     "name": "stdout",
     "output_type": "stream",
     "text": [
      "20/20 [==============================] - 14s 683ms/step - loss: 1.4938\n",
      "Epoch 99/200\n",
      "20/20 [==============================] - 14s 697ms/step - loss: 1.4880\n",
      "Epoch 100/200\n",
      "20/20 [==============================] - 14s 679ms/step - loss: 1.4925\n",
      "Epoch 101/200\n",
      "20/20 [==============================] - 13s 649ms/step - loss: 1.4894\n",
      "Epoch 102/200\n",
      "20/20 [==============================] - 14s 690ms/step - loss: 1.4838\n",
      "Epoch 103/200\n",
      "20/20 [==============================] - 14s 681ms/step - loss: 1.4815\n",
      "Epoch 104/200\n",
      "20/20 [==============================] - 14s 678ms/step - loss: 1.4776\n",
      "Epoch 105/200\n",
      "20/20 [==============================] - 14s 702ms/step - loss: 1.4762\n",
      "Epoch 106/200\n",
      "20/20 [==============================] - 14s 690ms/step - loss: 1.4771\n",
      "Epoch 107/200\n",
      "20/20 [==============================] - 14s 682ms/step - loss: 1.4699\n",
      "Epoch 108/200\n",
      "20/20 [==============================] - 14s 691ms/step - loss: 1.4651\n",
      "Epoch 109/200\n",
      "20/20 [==============================] - 14s 682ms/step - loss: 1.4685\n",
      "Epoch 110/200\n",
      "20/20 [==============================] - 14s 693ms/step - loss: 1.4686\n",
      "Epoch 111/200\n",
      "20/20 [==============================] - 14s 677ms/step - loss: 1.4625\n",
      "Epoch 112/200\n",
      "20/20 [==============================] - 14s 681ms/step - loss: 1.4553\n",
      "Epoch 113/200\n",
      "20/20 [==============================] - 13s 646ms/step - loss: 1.4584\n",
      "Epoch 114/200\n",
      "20/20 [==============================] - 14s 703ms/step - loss: 1.4593\n",
      "Epoch 115/200\n",
      "20/20 [==============================] - 14s 681ms/step - loss: 1.4516\n",
      "Epoch 116/200\n",
      "20/20 [==============================] - 14s 676ms/step - loss: 1.4494\n",
      "Epoch 117/200\n",
      "20/20 [==============================] - 14s 695ms/step - loss: 1.4532\n",
      "Epoch 118/200\n",
      "20/20 [==============================] - 14s 699ms/step - loss: 1.4463\n",
      "Epoch 119/200\n",
      "20/20 [==============================] - 14s 705ms/step - loss: 1.4377\n",
      "Epoch 120/200\n",
      "20/20 [==============================] - 14s 689ms/step - loss: 1.4460\n",
      "Epoch 121/200\n",
      "20/20 [==============================] - 14s 724ms/step - loss: 1.4453\n",
      "Epoch 122/200\n",
      "20/20 [==============================] - 14s 676ms/step - loss: 1.4360\n",
      "Epoch 123/200\n",
      "20/20 [==============================] - 14s 687ms/step - loss: 1.4341\n",
      "Epoch 124/200\n",
      "20/20 [==============================] - 13s 657ms/step - loss: 1.4357\n",
      "Epoch 125/200\n",
      "20/20 [==============================] - 14s 680ms/step - loss: 1.4301\n",
      "Epoch 126/200\n",
      "20/20 [==============================] - 14s 676ms/step - loss: 1.4205\n",
      "Epoch 127/200\n",
      "20/20 [==============================] - 13s 660ms/step - loss: 1.4292\n",
      "Epoch 128/200\n",
      "20/20 [==============================] - 14s 679ms/step - loss: 1.4309\n",
      "Epoch 129/200\n",
      "20/20 [==============================] - 14s 686ms/step - loss: 1.4213\n",
      "Epoch 130/200\n",
      "20/20 [==============================] - 14s 689ms/step - loss: 1.4246\n",
      "Epoch 131/200\n",
      "20/20 [==============================] - 14s 693ms/step - loss: 1.4257\n",
      "Epoch 132/200\n",
      "20/20 [==============================] - 14s 705ms/step - loss: 1.4215\n",
      "Epoch 133/200\n",
      "20/20 [==============================] - 14s 678ms/step - loss: 1.4211\n",
      "Epoch 134/200\n",
      "20/20 [==============================] - 14s 696ms/step - loss: 1.4141\n",
      "Epoch 135/200\n",
      "20/20 [==============================] - 14s 693ms/step - loss: 1.4180\n",
      "Epoch 136/200\n",
      "20/20 [==============================] - 14s 708ms/step - loss: 1.4127\n",
      "Epoch 137/200\n",
      "20/20 [==============================] - 13s 662ms/step - loss: 1.4125\n",
      "Epoch 138/200\n",
      "20/20 [==============================] - 14s 686ms/step - loss: 1.4170\n",
      "Epoch 139/200\n",
      "20/20 [==============================] - 14s 693ms/step - loss: 1.4109\n",
      "Epoch 140/200\n",
      "20/20 [==============================] - 14s 676ms/step - loss: 1.4034\n",
      "Epoch 141/200\n",
      "20/20 [==============================] - 14s 694ms/step - loss: 1.4061\n",
      "Epoch 142/200\n",
      "20/20 [==============================] - 14s 690ms/step - loss: 1.4047\n",
      "Epoch 143/200\n",
      "20/20 [==============================] - 14s 708ms/step - loss: 1.4017\n",
      "Epoch 144/200\n",
      "20/20 [==============================] - 13s 673ms/step - loss: 1.3990\n",
      "Epoch 145/200\n",
      "20/20 [==============================] - 15s 739ms/step - loss: 1.3967\n",
      "Epoch 146/200\n",
      "20/20 [==============================] - 15s 748ms/step - loss: 1.4014\n",
      "Epoch 147/200\n",
      "20/20 [==============================] - 14s 681ms/step - loss: 1.3996\n",
      "Epoch 148/200\n",
      "20/20 [==============================] - 14s 721ms/step - loss: 1.3999\n",
      "Epoch 149/200\n",
      "20/20 [==============================] - 14s 684ms/step - loss: 1.3906\n",
      "Epoch 150/200\n",
      "20/20 [==============================] - 13s 674ms/step - loss: 1.3950\n",
      "Epoch 151/200\n",
      "20/20 [==============================] - 14s 706ms/step - loss: 1.3884\n",
      "Epoch 152/200\n",
      "20/20 [==============================] - 14s 681ms/step - loss: 1.3957\n",
      "Epoch 153/200\n",
      "20/20 [==============================] - 14s 715ms/step - loss: 1.3878\n",
      "Epoch 154/200\n",
      "20/20 [==============================] - 13s 670ms/step - loss: 1.3927\n",
      "Epoch 155/200\n",
      "20/20 [==============================] - 14s 704ms/step - loss: 1.3823\n",
      "Epoch 156/200\n",
      "20/20 [==============================] - 14s 698ms/step - loss: 1.3827\n",
      "Epoch 157/200\n",
      "20/20 [==============================] - 14s 716ms/step - loss: 1.3849\n",
      "Epoch 158/200\n",
      "20/20 [==============================] - 14s 700ms/step - loss: 1.3830\n",
      "Epoch 159/200\n",
      "20/20 [==============================] - 14s 691ms/step - loss: 1.3842\n",
      "Epoch 160/200\n",
      "20/20 [==============================] - 14s 686ms/step - loss: 1.3766\n",
      "Epoch 161/200\n",
      "20/20 [==============================] - 13s 675ms/step - loss: 1.3766\n",
      "Epoch 162/200\n",
      "20/20 [==============================] - 13s 668ms/step - loss: 1.3787\n",
      "Epoch 163/200\n",
      "20/20 [==============================] - 13s 645ms/step - loss: 1.3763\n",
      "Epoch 164/200\n",
      "20/20 [==============================] - 13s 643ms/step - loss: 1.3698\n",
      "Epoch 165/200\n",
      "20/20 [==============================] - 13s 651ms/step - loss: 1.3759\n",
      "Epoch 166/200\n",
      "20/20 [==============================] - 13s 648ms/step - loss: 1.3711\n",
      "Epoch 167/200\n",
      "20/20 [==============================] - 13s 658ms/step - loss: 1.3730\n",
      "Epoch 168/200\n",
      "20/20 [==============================] - 13s 650ms/step - loss: 1.3691\n",
      "Epoch 169/200\n",
      "20/20 [==============================] - 13s 649ms/step - loss: 1.3723\n",
      "Epoch 170/200\n",
      "20/20 [==============================] - 13s 656ms/step - loss: 1.3697\n",
      "Epoch 171/200\n",
      "20/20 [==============================] - 13s 668ms/step - loss: 1.3661\n",
      "Epoch 172/200\n",
      "20/20 [==============================] - 13s 654ms/step - loss: 1.3656\n",
      "Epoch 173/200\n",
      "20/20 [==============================] - 13s 653ms/step - loss: 1.3576\n",
      "Epoch 174/200\n",
      "20/20 [==============================] - 13s 646ms/step - loss: 1.3633\n",
      "Epoch 175/200\n",
      "20/20 [==============================] - 13s 657ms/step - loss: 1.3629\n",
      "Epoch 176/200\n",
      "20/20 [==============================] - 13s 644ms/step - loss: 1.3625\n",
      "Epoch 177/200\n",
      "20/20 [==============================] - 13s 658ms/step - loss: 1.3546\n",
      "Epoch 178/200\n",
      "20/20 [==============================] - 13s 644ms/step - loss: 1.3576\n",
      "Epoch 179/200\n",
      "20/20 [==============================] - 13s 645ms/step - loss: 1.3512\n",
      "Epoch 180/200\n",
      "20/20 [==============================] - 13s 656ms/step - loss: 1.3555\n",
      "Epoch 181/200\n",
      "20/20 [==============================] - 13s 655ms/step - loss: 1.3590\n",
      "Epoch 182/200\n",
      "20/20 [==============================] - 13s 655ms/step - loss: 1.3594\n",
      "Epoch 183/200\n",
      "20/20 [==============================] - 13s 650ms/step - loss: 1.3518\n",
      "Epoch 184/200\n",
      "20/20 [==============================] - 13s 642ms/step - loss: 1.3482\n",
      "Epoch 185/200\n",
      "20/20 [==============================] - 13s 650ms/step - loss: 1.3510\n",
      "Epoch 186/200\n",
      "20/20 [==============================] - 14s 706ms/step - loss: 1.3456\n",
      "Epoch 187/200\n",
      "20/20 [==============================] - 14s 723ms/step - loss: 1.3477\n",
      "Epoch 188/200\n",
      "20/20 [==============================] - 13s 665ms/step - loss: 1.3472\n",
      "Epoch 189/200\n",
      "20/20 [==============================] - 14s 685ms/step - loss: 1.3514\n",
      "Epoch 190/200\n",
      "20/20 [==============================] - 13s 645ms/step - loss: 1.3463\n",
      "Epoch 191/200\n",
      "20/20 [==============================] - 13s 646ms/step - loss: 1.3449\n",
      "Epoch 192/200\n",
      "20/20 [==============================] - 13s 653ms/step - loss: 1.3478\n",
      "Epoch 193/200\n",
      "20/20 [==============================] - 13s 645ms/step - loss: 1.3444\n",
      "Epoch 194/200\n"
     ]
    },
    {
     "name": "stdout",
     "output_type": "stream",
     "text": [
      "20/20 [==============================] - 13s 654ms/step - loss: 1.3460\n",
      "Epoch 195/200\n",
      "20/20 [==============================] - 14s 681ms/step - loss: 1.3451\n",
      "Epoch 196/200\n",
      "20/20 [==============================] - 14s 674ms/step - loss: 1.3402\n",
      "Epoch 197/200\n",
      "20/20 [==============================] - 14s 710ms/step - loss: 1.3414\n",
      "Epoch 198/200\n",
      "20/20 [==============================] - 14s 690ms/step - loss: 1.3363\n",
      "Epoch 199/200\n",
      "20/20 [==============================] - 14s 689ms/step - loss: 1.3371\n",
      "Epoch 200/200\n",
      "20/20 [==============================] - 14s 717ms/step - loss: 1.3350\n"
     ]
    }
   ],
   "source": [
    "history = model.fit(dataset, epochs=200, callbacks=[ResetStatesCallback()], steps_per_epoch=steps_per_epoch)"
   ]
  },
  {
   "cell_type": "code",
   "execution_count": 58,
   "metadata": {},
   "outputs": [],
   "source": [
    "model.save('stateful_rnn_lyrics')"
   ]
  },
  {
   "cell_type": "code",
   "execution_count": 63,
   "metadata": {},
   "outputs": [
    {
     "data": {
      "text/plain": [
       "True"
      ]
     },
     "execution_count": 63,
     "metadata": {},
     "output_type": "execute_result"
    }
   ],
   "source": [
    "tf.executing_eagerly()"
   ]
  },
  {
   "cell_type": "code",
   "execution_count": 64,
   "metadata": {},
   "outputs": [],
   "source": [
    "#stateless copy to allow us to use different batch sizes\n",
    "stateless_model = tf.keras.models.Sequential([\n",
    "    tf.keras.layers.GRU(128, return_sequences=True, input_shape=[None, max_id]),\n",
    "    tf.keras.layers.GRU(128, return_sequences=True),\n",
    "    tf.keras.layers.GRU(128, return_sequences=True),\n",
    "    tf.keras.layers.TimeDistributed(tf.keras.layers.Dense(max_id,\n",
    "                                                    activation=\"softmax\"))\n",
    "])"
   ]
  },
  {
   "cell_type": "code",
   "execution_count": 65,
   "metadata": {},
   "outputs": [],
   "source": [
    "stateless_model.build(tf.TensorShape([None, None, max_id]))"
   ]
  },
  {
   "cell_type": "code",
   "execution_count": 66,
   "metadata": {},
   "outputs": [],
   "source": [
    "stateless_model.set_weights(model.get_weights())\n",
    "model = stateless_model"
   ]
  },
  {
   "cell_type": "code",
   "execution_count": 67,
   "metadata": {},
   "outputs": [
    {
     "name": "stdout",
     "output_type": "stream",
     "text": [
      "to harn\n",
      "i love me alone\n",
      "i'll see you could fall see\n",
      "no suppised on a may breeds of help me to this to\n"
     ]
    }
   ],
   "source": [
    "print(complete_text(\"t\"))"
   ]
  },
  {
   "cell_type": "code",
   "execution_count": 68,
   "metadata": {},
   "outputs": [
    {
     "name": "stdout",
     "output_type": "stream",
     "text": [
      "more waught that never with beo eads\n",
      "shay of that open broken hearf\n",
      "i am trying to the bodding foothe\n"
     ]
    }
   ],
   "source": [
    "print(complete_text(\"m\"))"
   ]
  },
  {
   "cell_type": "code",
   "execution_count": null,
   "metadata": {},
   "outputs": [],
   "source": []
  }
 ],
 "metadata": {
  "kernelspec": {
   "display_name": "Python 3",
   "language": "python",
   "name": "python3"
  },
  "language_info": {
   "codemirror_mode": {
    "name": "ipython",
    "version": 3
   },
   "file_extension": ".py",
   "mimetype": "text/x-python",
   "name": "python",
   "nbconvert_exporter": "python",
   "pygments_lexer": "ipython3",
   "version": "3.7.3"
  }
 },
 "nbformat": 4,
 "nbformat_minor": 4
}
