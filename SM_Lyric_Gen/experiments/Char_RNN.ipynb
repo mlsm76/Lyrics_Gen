{
 "cells": [
  {
   "cell_type": "code",
   "execution_count": 1,
   "metadata": {},
   "outputs": [
    {
     "name": "stdout",
     "output_type": "stream",
     "text": [
      "WARNING:tensorflow:From C:\\Users\\mitch\\AppData\\Roaming\\Python\\Python37\\site-packages\\tensorflow\\python\\compat\\v2_compat.py:96: disable_resource_variables (from tensorflow.python.ops.variable_scope) is deprecated and will be removed in a future version.\n",
      "Instructions for updating:\n",
      "non-resource variables are not supported in the long term\n"
     ]
    },
    {
     "name": "stderr",
     "output_type": "stream",
     "text": [
      "Using TensorFlow backend.\n"
     ]
    }
   ],
   "source": [
    "import pandas as pd\n",
    "import numpy as np\n",
    "import tensorflow.compat.v1 as tf\n",
    "import keras\n",
    "from tensorflow.keras import backend\n",
    "from tensorflow.keras.layers import Dropout, Dense\n",
    "from tensorflow.keras.models import Sequential\n",
    "tf.compat.v1.enable_eager_execution()\n",
    "tf.compat.v1.disable_v2_behavior()\n",
    "import tensorflow.experimental.numpy as tnp\n",
    "tf.enable_eager_execution()"
   ]
  },
  {
   "cell_type": "code",
   "execution_count": 2,
   "metadata": {},
   "outputs": [],
   "source": [
    "lyrics = open(\"Lyrics_Counterparts.txt\", encoding=\"utf-8\").read().lower()"
   ]
  },
  {
   "cell_type": "code",
   "execution_count": 3,
   "metadata": {},
   "outputs": [],
   "source": [
    "tokenizer = keras.preprocessing.text.Tokenizer(char_level=True)\n",
    "tokenizer.fit_on_texts(lyrics)"
   ]
  },
  {
   "cell_type": "code",
   "execution_count": 4,
   "metadata": {},
   "outputs": [
    {
     "data": {
      "text/plain": [
       "[[17, 5, 8, 9, 3]]"
      ]
     },
     "execution_count": 4,
     "metadata": {},
     "output_type": "execute_result"
    }
   ],
   "source": [
    "tokenizer.texts_to_sequences([\"First\"])"
   ]
  },
  {
   "cell_type": "code",
   "execution_count": 5,
   "metadata": {},
   "outputs": [
    {
     "name": "stdout",
     "output_type": "stream",
     "text": [
      "52   71707\n"
     ]
    }
   ],
   "source": [
    "max_id = len(tokenizer.word_index) #number of distinct characters in text\n",
    "dataset_size = tokenizer.document_count #total number of characters\n",
    "print(max_id, \" \", dataset_size)"
   ]
  },
  {
   "cell_type": "code",
   "execution_count": 6,
   "metadata": {},
   "outputs": [],
   "source": [
    "[encoded] = np.array(tokenizer.texts_to_sequences([lyrics])) - 1\n",
    "#encodes the full text so each character is represented by its ID"
   ]
  },
  {
   "cell_type": "code",
   "execution_count": 7,
   "metadata": {},
   "outputs": [],
   "source": [
    "#splitting dataset for training/test/validation\n",
    "train_size = dataset_size * 90//100\n",
    "dataset = tf.data.Dataset.from_tensor_slices(encoded[:train_size])"
   ]
  },
  {
   "cell_type": "code",
   "execution_count": 8,
   "metadata": {},
   "outputs": [],
   "source": [
    "#convert long string of characters into windows for training(batches)\n",
    "n_steps = 100\n",
    "window_length = n_steps + 1 #target character = input shifted 1 char ahead\n",
    "dataset = dataset.window(window_length, shift=1, drop_remainder=True)"
   ]
  },
  {
   "cell_type": "code",
   "execution_count": 9,
   "metadata": {},
   "outputs": [],
   "source": [
    "#flatten the dataset for training\n",
    "dataset = dataset.flat_map(lambda window: window.batch(window_length))\n",
    "#this gives us a single tensor for each window"
   ]
  },
  {
   "cell_type": "code",
   "execution_count": 10,
   "metadata": {},
   "outputs": [],
   "source": [
    "batch_size = 32\n",
    "dataset = dataset.shuffle(10000).batch(batch_size)\n",
    "dataset = dataset.map(lambda windows: (windows[:, :-1], windows[:, 1:]))"
   ]
  },
  {
   "cell_type": "code",
   "execution_count": 11,
   "metadata": {},
   "outputs": [],
   "source": [
    "dataset = dataset.map(\n",
    "    lambda X_batch, Y_batch: (tf.one_hot(X_batch, depth=max_id), Y_batch))"
   ]
  },
  {
   "cell_type": "code",
   "execution_count": 12,
   "metadata": {},
   "outputs": [],
   "source": [
    "dataset = dataset.prefetch(1)"
   ]
  },
  {
   "cell_type": "code",
   "execution_count": 13,
   "metadata": {},
   "outputs": [
    {
     "name": "stdout",
     "output_type": "stream",
     "text": [
      "Epoch 1/20\n",
      "2014/2014 [==============================] - 683s 336ms/step - loss: 2.2633\n",
      "Epoch 2/20\n",
      "2014/2014 [==============================] - 676s 335ms/step - loss: 1.5648\n",
      "Epoch 3/20\n",
      "2014/2014 [==============================] - 676s 335ms/step - loss: 1.4516\n",
      "Epoch 4/20\n",
      "2014/2014 [==============================] - 674s 334ms/step - loss: 1.3973\n",
      "Epoch 5/20\n",
      "2014/2014 [==============================] - 676s 335ms/step - loss: 1.3619\n",
      "Epoch 6/20\n",
      "2014/2014 [==============================] - 673s 333ms/step - loss: 1.3355\n",
      "Epoch 7/20\n",
      "2014/2014 [==============================] - 679s 336ms/step - loss: 1.3174\n",
      "Epoch 8/20\n",
      "2014/2014 [==============================] - 676s 335ms/step - loss: 1.3007\n",
      "Epoch 9/20\n",
      "2014/2014 [==============================] - 669s 331ms/step - loss: 1.2858\n",
      "Epoch 10/20\n",
      "2014/2014 [==============================] - 676s 335ms/step - loss: 1.2748\n",
      "Epoch 11/20\n",
      "2014/2014 [==============================] - 675s 334ms/step - loss: 1.2654\n",
      "Epoch 12/20\n",
      "2014/2014 [==============================] - 674s 334ms/step - loss: 1.2556\n",
      "Epoch 13/20\n",
      "2014/2014 [==============================] - 672s 333ms/step - loss: 1.2487\n",
      "Epoch 14/20\n",
      "2014/2014 [==============================] - 675s 334ms/step - loss: 1.2410\n",
      "Epoch 15/20\n",
      "2014/2014 [==============================] - 672s 333ms/step - loss: 1.2347\n",
      "Epoch 16/20\n",
      "2014/2014 [==============================] - 676s 335ms/step - loss: 1.2269\n",
      "Epoch 17/20\n",
      "2014/2014 [==============================] - 705s 349ms/step - loss: 1.2234\n",
      "Epoch 18/20\n",
      "2014/2014 [==============================] - 675s 335ms/step - loss: 1.2165\n",
      "Epoch 19/20\n",
      "2014/2014 [==============================] - 674s 334ms/step - loss: 1.2130\n",
      "Epoch 20/20\n",
      "2014/2014 [==============================] - 672s 333ms/step - loss: 1.2088\n"
     ]
    }
   ],
   "source": [
    "model = tf.keras.models.Sequential([\n",
    "    tf.keras.layers.GRU(128, return_sequences=True, input_shape=[None, max_id],\n",
    "                    dropout=0.2, recurrent_dropout=0.2),\n",
    "    tf.keras.layers.GRU(128, return_sequences=True, \n",
    "                     dropout=0.2, recurrent_dropout=0.2),\n",
    "    tf.keras.layers.TimeDistributed(tf.keras.layers.Dense(max_id,\n",
    "                                                   activation=\"softmax\"))\n",
    "])\n",
    "model.compile(loss=\"sparse_categorical_crossentropy\", optimizer=\"adam\")\n",
    "history = model.fit(dataset, epochs=20)"
   ]
  },
  {
   "cell_type": "code",
   "execution_count": 14,
   "metadata": {},
   "outputs": [],
   "source": [
    "model.save('char_rnn_lyrics')"
   ]
  },
  {
   "cell_type": "code",
   "execution_count": 15,
   "metadata": {},
   "outputs": [
    {
     "data": {
      "text/plain": [
       "True"
      ]
     },
     "execution_count": 15,
     "metadata": {},
     "output_type": "execute_result"
    }
   ],
   "source": [
    "tf.executing_eagerly()"
   ]
  },
  {
   "cell_type": "code",
   "execution_count": 16,
   "metadata": {},
   "outputs": [],
   "source": [
    "def preprocess(texts):\n",
    "    X = np.array(tokenizer.texts_to_sequences(texts)) - 1\n",
    "    return tf.one_hot(X, max_id)"
   ]
  },
  {
   "cell_type": "code",
   "execution_count": 17,
   "metadata": {},
   "outputs": [
    {
     "name": "stderr",
     "output_type": "stream",
     "text": [
      "C:\\Users\\mitch\\AppData\\Roaming\\Python\\Python37\\site-packages\\tensorflow\\python\\keras\\engine\\sequential.py:450: UserWarning: `model.predict_classes()` is deprecated and will be removed after 2021-01-01. Please use instead:* `np.argmax(model.predict(x), axis=-1)`,   if your model does multi-class classification   (e.g. if it uses a `softmax` last-layer activation).* `(model.predict(x) > 0.5).astype(\"int32\")`,   if your model does binary classification   (e.g. if it uses a `sigmoid` last-layer activation).\n",
      "  warnings.warn('`model.predict_classes()` is deprecated and '\n"
     ]
    },
    {
     "data": {
      "text/plain": [
       "'u'"
      ]
     },
     "execution_count": 17,
     "metadata": {},
     "output_type": "execute_result"
    }
   ],
   "source": [
    "X_new = preprocess([\"How are yo\"])\n",
    "Y_pred = model.predict_classes(X_new)\n",
    "tokenizer.sequences_to_texts(Y_pred + 1)[0][-1] # 1st sentence, last char"
   ]
  },
  {
   "cell_type": "code",
   "execution_count": 18,
   "metadata": {},
   "outputs": [],
   "source": [
    "def next_char(text, temperature=1):\n",
    "    X_new = preprocess([text])\n",
    "    y_proba = model.predict(X_new,steps=1)[0, -1:, :]\n",
    "    rescaled_logits = tf.math.log(y_proba)/ temperature\n",
    "    char_id = tf.random.categorical(rescaled_logits, num_samples=1) + 1\n",
    "    return tokenizer.sequences_to_texts(char_id.numpy())[0]\n",
    "#this function picks the next character randomly, with a probability equal to the estimated probability,using tf.random.categorical\n",
    "#categorical() samples random class indices, given the class probs (logits)\n",
    "#temperature is a variables that controls the diversity of the characters generated\n",
    "# a near-zero temperature will output characters with high probabilities\n",
    "# a high temperature will give all characters equal probability"
   ]
  },
  {
   "cell_type": "code",
   "execution_count": 19,
   "metadata": {},
   "outputs": [],
   "source": [
    "#this function repeatedly calls the above function to generate text\n",
    "def complete_text(text, n_chars=100, temperature=1):\n",
    "    for _ in range(n_chars):\n",
    "        text += next_char (text, temperature)\n",
    "    return text"
   ]
  },
  {
   "cell_type": "code",
   "execution_count": 23,
   "metadata": {},
   "outputs": [
    {
     "name": "stdout",
     "output_type": "stream",
     "text": [
      "ains\n",
      "\n",
      "this is the heart between nothing more can timely where i just from rorring to find you\n",
      "\n",
      "any \"r\n"
     ]
    }
   ],
   "source": [
    "print(complete_text(\"a\", temperature=1))"
   ]
  },
  {
   "cell_type": "code",
   "execution_count": 24,
   "metadata": {},
   "outputs": [
    {
     "name": "stdout",
     "output_type": "stream",
     "text": [
      "beging\n",
      "and we run from right among earth i am a god\n",
      "caused me for right what i'll allow you i vill la\n"
     ]
    }
   ],
   "source": [
    "print(complete_text(\"b\", temperature=1))"
   ]
  },
  {
   "cell_type": "code",
   "execution_count": 25,
   "metadata": {},
   "outputs": [
    {
     "name": "stdout",
     "output_type": "stream",
     "text": [
      "f than but i need souls of the fell that a dollection on our casualtyen\n",
      "all i’vensle with from the pr\n"
     ]
    }
   ],
   "source": [
    "print(complete_text(\"f\", temperature=1))"
   ]
  },
  {
   "cell_type": "code",
   "execution_count": null,
   "metadata": {},
   "outputs": [],
   "source": []
  }
 ],
 "metadata": {
  "kernelspec": {
   "display_name": "Python 3",
   "language": "python",
   "name": "python3"
  },
  "language_info": {
   "codemirror_mode": {
    "name": "ipython",
    "version": 3
   },
   "file_extension": ".py",
   "mimetype": "text/x-python",
   "name": "python",
   "nbconvert_exporter": "python",
   "pygments_lexer": "ipython3",
   "version": "3.7.3"
  }
 },
 "nbformat": 4,
 "nbformat_minor": 4
}
